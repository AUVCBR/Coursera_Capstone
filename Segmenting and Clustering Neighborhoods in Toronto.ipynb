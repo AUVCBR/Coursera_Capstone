{
    "cells": [
        {
            "metadata": {
                "collapsed": true
            },
            "cell_type": "markdown",
            "source": "## Table of Contents\n\n<div class=\"alert alert-block alert-info\" style=\"margin-top: 20px\">\n\n<font size = 3>\n<p >For this assignment, you will be required to explore and cluster the neighborhoods in Toronto.</p>\n<ol >\n    <li>Start by creating a new Notebook for this assignment.</li>\n    <li>Hints for scraping Notebook</li>\n    <img src = \"https://d3c33hcgiwev3.cloudfront.net/imageAssetProxy.v1/7JXaz3NNEeiMwApe4i-fLg_40e690ae0e927abda2d4bde7d94ed133_Screen-Shot-2018-06-18-at-7.17.57-PM.png?expiry=1622419200000&hmac=BEGNkLVYeZbFlzKMeNha_Yi-hM0E1tBIY2pthqqA1XA\" width = 400> \n    <li>To create the above dataframe:</li>\n    <ul>\n        <li>\n            The dataframe will consist of three columns: PostalCode, Borough, and Neighborhood\n        </li>\n        <li>\n            Only process the cells that have an assigned borough. Ignore cells with a borough that is Not assigned.\n        </li>\n        <li>  \n            More than one neighborhood can exist in one postal code area. For example, in the table on the Wikipedia page, you will notice that M5A is listed twice and has two neighborhoods: Harbourfront and Regent Park. These two rows will be combined into one row with the neighborhoods separated with a comma as shown in row 11  in the above table.\n        </li>\n        <li>\n            If a cell has a borough but a Not assigned  neighborhood, then the neighborhood will be the same as the borough.\n        </li>\n        <li>\n            Clean your Notebook and add Markdown cells to explain your work and any assumptions you are making.\n        </li>\n        <li>\n            In the last cell of your notebook, use the .shape method to print the number of rows of your dataframe.\n        </li>\n    </ul>\n    <li>Hints for scraping Notebook</li>\n</ol>\n\n\n\n\n</font>\n</div>"
        },
        {
            "metadata": {},
            "cell_type": "code",
            "source": "import requests \nimport pandas as pd\n\n!pip install bs4\nfrom bs4 import BeautifulSoup\n",
            "execution_count": 1,
            "outputs": [
                {
                    "output_type": "stream",
                    "text": "/opt/conda/envs/Python-3.7-main/lib/python3.7/site-packages/secretstorage/dhcrypto.py:16: CryptographyDeprecationWarning: int_from_bytes is deprecated, use int.from_bytes instead\n  from cryptography.utils import int_from_bytes\n/opt/conda/envs/Python-3.7-main/lib/python3.7/site-packages/secretstorage/util.py:25: CryptographyDeprecationWarning: int_from_bytes is deprecated, use int.from_bytes instead\n  from cryptography.utils import int_from_bytes\nRequirement already satisfied: bs4 in /opt/conda/envs/Python-3.7-main/lib/python3.7/site-packages (0.0.1)\nRequirement already satisfied: beautifulsoup4 in /opt/conda/envs/Python-3.7-main/lib/python3.7/site-packages (from bs4) (4.9.1)\nRequirement already satisfied: soupsieve>1.2 in /opt/conda/envs/Python-3.7-main/lib/python3.7/site-packages (from beautifulsoup4->bs4) (2.0.1)\n",
                    "name": "stdout"
                }
            ]
        },
        {
            "metadata": {},
            "cell_type": "code",
            "source": "url = \"https://en.wikipedia.org/wiki/List_of_postal_codes_of_Canada:_M\"\nresp = requests.get(url).text\nsoup = BeautifulSoup(resp, \"html.parser\")\ntable = soup.find(\"table\")\ntable_content=[]\n\nfor row in table.find_all(\"td\"):\n    if row.span.text != \"Not assigned\":\n        cell = {}\n        cell['PostalCode'] = row.b.text\n        cell['Borough'] = row.span.text.split(\"(\")[0]\n        cell['Neighborhood'] = row.span.text.split(\"(\")[1].replace(\")\", \"\").replace(\"/\", \",\").replace(\" \", \"\")\n    \n        table_content.append(cell)",
            "execution_count": 2,
            "outputs": []
        },
        {
            "metadata": {},
            "cell_type": "code",
            "source": "df = pd.DataFrame(table_content)\ndf",
            "execution_count": 3,
            "outputs": [
                {
                    "output_type": "execute_result",
                    "execution_count": 3,
                    "data": {
                        "text/plain": "    PostalCode                                            Borough  \\\n0          M3A                                         North York   \n1          M4A                                         North York   \n2          M5A                                   Downtown Toronto   \n3          M6A                                         North York   \n4          M7A                                       Queen's Park   \n..         ...                                                ...   \n98         M8X                                          Etobicoke   \n99         M4Y                                   Downtown Toronto   \n100        M7Y  East TorontoBusiness reply mail Processing Cen...   \n101        M8Y                                          Etobicoke   \n102        M8Z                                          Etobicoke   \n\n                                          Neighborhood  \n0                                            Parkwoods  \n1                                      VictoriaVillage  \n2                              RegentPark,Harbourfront  \n3                        LawrenceManor,LawrenceHeights  \n4                          OntarioProvincialGovernment  \n..                                                 ...  \n98             TheKingsway,MontgomeryRoad,OldMillNorth  \n99                                  ChurchandWellesley  \n100                                       EnclaveofM4L  \n101  OldMillSouth,King'sMillPark,Sunnylea,HumberBay...  \n102  MimicoNW,TheQueenswayWest,SouthofBloor,Kingswa...  \n\n[103 rows x 3 columns]",
                        "text/html": "<div>\n<style scoped>\n    .dataframe tbody tr th:only-of-type {\n        vertical-align: middle;\n    }\n\n    .dataframe tbody tr th {\n        vertical-align: top;\n    }\n\n    .dataframe thead th {\n        text-align: right;\n    }\n</style>\n<table border=\"1\" class=\"dataframe\">\n  <thead>\n    <tr style=\"text-align: right;\">\n      <th></th>\n      <th>PostalCode</th>\n      <th>Borough</th>\n      <th>Neighborhood</th>\n    </tr>\n  </thead>\n  <tbody>\n    <tr>\n      <th>0</th>\n      <td>M3A</td>\n      <td>North York</td>\n      <td>Parkwoods</td>\n    </tr>\n    <tr>\n      <th>1</th>\n      <td>M4A</td>\n      <td>North York</td>\n      <td>VictoriaVillage</td>\n    </tr>\n    <tr>\n      <th>2</th>\n      <td>M5A</td>\n      <td>Downtown Toronto</td>\n      <td>RegentPark,Harbourfront</td>\n    </tr>\n    <tr>\n      <th>3</th>\n      <td>M6A</td>\n      <td>North York</td>\n      <td>LawrenceManor,LawrenceHeights</td>\n    </tr>\n    <tr>\n      <th>4</th>\n      <td>M7A</td>\n      <td>Queen's Park</td>\n      <td>OntarioProvincialGovernment</td>\n    </tr>\n    <tr>\n      <th>...</th>\n      <td>...</td>\n      <td>...</td>\n      <td>...</td>\n    </tr>\n    <tr>\n      <th>98</th>\n      <td>M8X</td>\n      <td>Etobicoke</td>\n      <td>TheKingsway,MontgomeryRoad,OldMillNorth</td>\n    </tr>\n    <tr>\n      <th>99</th>\n      <td>M4Y</td>\n      <td>Downtown Toronto</td>\n      <td>ChurchandWellesley</td>\n    </tr>\n    <tr>\n      <th>100</th>\n      <td>M7Y</td>\n      <td>East TorontoBusiness reply mail Processing Cen...</td>\n      <td>EnclaveofM4L</td>\n    </tr>\n    <tr>\n      <th>101</th>\n      <td>M8Y</td>\n      <td>Etobicoke</td>\n      <td>OldMillSouth,King'sMillPark,Sunnylea,HumberBay...</td>\n    </tr>\n    <tr>\n      <th>102</th>\n      <td>M8Z</td>\n      <td>Etobicoke</td>\n      <td>MimicoNW,TheQueenswayWest,SouthofBloor,Kingswa...</td>\n    </tr>\n  </tbody>\n</table>\n<p>103 rows \u00d7 3 columns</p>\n</div>"
                    },
                    "metadata": {}
                }
            ]
        },
        {
            "metadata": {},
            "cell_type": "code",
            "source": "df.shape",
            "execution_count": 4,
            "outputs": [
                {
                    "output_type": "execute_result",
                    "execution_count": 4,
                    "data": {
                        "text/plain": "(103, 3)"
                    },
                    "metadata": {}
                }
            ]
        }
    ],
    "metadata": {
        "kernelspec": {
            "name": "python3",
            "display_name": "Python 3.7",
            "language": "python"
        },
        "language_info": {
            "name": "python",
            "version": "3.7.10",
            "mimetype": "text/x-python",
            "codemirror_mode": {
                "name": "ipython",
                "version": 3
            },
            "pygments_lexer": "ipython3",
            "nbconvert_exporter": "python",
            "file_extension": ".py"
        }
    },
    "nbformat": 4,
    "nbformat_minor": 1
}